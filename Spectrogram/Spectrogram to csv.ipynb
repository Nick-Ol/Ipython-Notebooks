{
 "metadata": {
  "name": "",
  "signature": "sha256:d1f865e6a2d79c9e6be6124c0d8f40f33bed941e76361d79d0cec916cfe94d85"
 },
 "nbformat": 3,
 "nbformat_minor": 0,
 "worksheets": []
}